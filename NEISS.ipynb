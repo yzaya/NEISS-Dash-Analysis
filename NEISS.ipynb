{
 "cells": [
  {
   "cell_type": "code",
   "execution_count": 1,
   "id": "78b62b91-2c0b-4855-8093-dd6fbffbe6cf",
   "metadata": {},
   "outputs": [],
   "source": [
    "import os, time\n",
    "import pandas as pd"
   ]
  },
  {
   "cell_type": "code",
   "execution_count": null,
   "id": "ac893553-8fef-4d2e-b307-3b209786a8ac",
   "metadata": {},
   "outputs": [],
   "source": [
    "fact_directory = 'NEISS_All_Data/Fact Tables/'\n",
    "\n",
    "dfs = []\n",
    "\n",
    "start_time = time.time()\n",
    "for filename in os.listdir(fact_directory):\n",
    "    filepath = os.path.join(fact_directory, filename)\n",
    "    df = pd.read_excel(filepath)\n",
    "    dfs.append(df)\n",
    "data_load_finish = time.time() - start_time\n",
    "print(data_load_finish)"
   ]
  },
  {
   "cell_type": "code",
   "execution_count": null,
   "id": "3ae1d63e-e88c-45af-97bb-a95368eb27b5",
   "metadata": {},
   "outputs": [],
   "source": []
  }
 ],
 "metadata": {
  "kernelspec": {
   "display_name": "Python 3 (ipykernel)",
   "language": "python",
   "name": "python3"
  },
  "language_info": {
   "codemirror_mode": {
    "name": "ipython",
    "version": 3
   },
   "file_extension": ".py",
   "mimetype": "text/x-python",
   "name": "python",
   "nbconvert_exporter": "python",
   "pygments_lexer": "ipython3",
   "version": "3.9.15"
  }
 },
 "nbformat": 4,
 "nbformat_minor": 5
}
